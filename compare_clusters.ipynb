{
 "cells": [
  {
   "cell_type": "code",
   "execution_count": 1,
   "metadata": {},
   "outputs": [],
   "source": [
    "import json\n",
    "import random\n",
    "import pathlib\n",
    "import joblib\n",
    "from collections import defaultdict\n",
    "import plotly.express as px"
   ]
  },
  {
   "cell_type": "code",
   "execution_count": 2,
   "metadata": {},
   "outputs": [],
   "source": [
    "def get_data_path(output_key='topicalchat', feature_name='discourse_features', n=2):     \n",
    "    # output_key = 'multi-woz2'\n",
    "    # output_key = 'topicalchat'\n",
    "    # features_name = 'dialog_tagger_features'\n",
    "    # features_name = 'discourse_features'\n",
    "    # features_name = 'topic_model_features'    \n",
    "    output_folder = f'data/results/{output_key}_{n}_{feature_name}/'    \n",
    "    data_path = output_folder + 'data.joblib'\n",
    "    return data_path\n",
    "\n",
    "def get_output_path(output_key='topicalchat', feature_name='discourse_features', n=2):     \n",
    "    # output_key = 'multi-woz2'\n",
    "    # output_key = 'topicalchat'\n",
    "    # features_name = 'dialog_tagger_features'\n",
    "    # features_name = 'discourse_features'\n",
    "    # features_name = 'topic_model_features'    \n",
    "    output_folder = f'data/results/{output_key}_{n}_{feature_name}/'    \n",
    "    return output_folder"
   ]
  },
  {
   "cell_type": "code",
   "execution_count": 3,
   "metadata": {},
   "outputs": [],
   "source": [
    "def load_data(data_path):\n",
    "    data = joblib.load(data_path)\n",
    "    return data\n",
    "\n",
    "def jaccard_similarity(s1, s2):    \n",
    "    if not s1 and not s2:\n",
    "        return 0\n",
    "    res = round(len(s1.intersection(s2)) / len(s1.union(s2)), 5)\n",
    "    if res < 0:\n",
    "        res = 0\n",
    "    if res > 1:\n",
    "        res = 1\n",
    "    return res"
   ]
  },
  {
   "cell_type": "code",
   "execution_count": 4,
   "metadata": {},
   "outputs": [],
   "source": [
    "topicalchat_data_path = get_data_path('topicalchat', feature_name='topic_model_features')\n",
    "multiwoz_data_path = get_data_path('multi-woz2', feature_name='topic_model_features')\n",
    "topicalchat_output_path = get_output_path('topicalchat', feature_name='topic_model_features')\n",
    "multiwoz_output_path = get_output_path('multi-woz2', feature_name='topic_model_features')\n",
    "topicalchat_data = load_data(topicalchat_data_path)\n",
    "multiwoz_data = load_data(multiwoz_data_path)"
   ]
  },
  {
   "cell_type": "code",
   "execution_count": 5,
   "metadata": {},
   "outputs": [],
   "source": [
    "reverse_index_topicalchat = {i: c for c, i in sorted(topicalchat_data['new_clusters'].items(), key=lambda x: x[1])} \n",
    "reverse_index_multiwoz = {i: c for c, i in sorted(multiwoz_data['new_clusters'].items(), key=lambda x: x[1])} "
   ]
  },
  {
   "cell_type": "code",
   "execution_count": 6,
   "metadata": {},
   "outputs": [],
   "source": [
    "def get_thread_key(n):    \n",
    "    key = f'thread'\n",
    "    return key\n",
    "\n",
    "\n",
    "def calc_cluster_cluster_usage_distribution(dialogs, n):\n",
    "    key = get_thread_key(n)\n",
    "    cluster_usage_distribution = defaultdict(int)\n",
    "    for dialog_id, dialog in dialogs.items():\n",
    "        if key not in dialog:\n",
    "            continue\n",
    "        thread = dialog[key]\n",
    "        for ind, row in enumerate(thread):\n",
    "            cluster_usage_distribution[row['cluster_id']] += 1\n",
    "    return cluster_usage_distribution\n",
    "\n",
    "topicalchat_usage = calc_cluster_cluster_usage_distribution(topicalchat_data['dialog'], 2)\n",
    "multiwoz_usage = calc_cluster_cluster_usage_distribution(multiwoz_data['dialog'], 2)"
   ]
  },
  {
   "cell_type": "code",
   "execution_count": 7,
   "metadata": {},
   "outputs": [],
   "source": [
    "# topical_ids = list(sorted(reverse_index_topicalchat.keys()))\n",
    "# multiwoz_ids = list(sorted(reverse_index_multiwoz.keys()))\n",
    "top_k = 25\n",
    "topical_ids = [cluster_id for cluster_id, freq in sorted(topicalchat_usage.items(), key=lambda x: x[1], reverse=True)[:top_k]]\n",
    "multiwoz_ids = [cluster_id for cluster_id, freq in sorted(multiwoz_usage.items(), key=lambda x: x[1], reverse=True)[:top_k]]\n",
    "# topical_ids = sorted(reverse_index_topicalchat.keys())\n",
    "# multiwoz_ids = sorted(reverse_index_multiwoz.keys())\n",
    "sims = []\n",
    "for cluster_id_top in topical_ids:\n",
    "    features_topical = reverse_index_topicalchat[cluster_id_top]\n",
    "    sim_arr = []\n",
    "    for cluster_id_mult in multiwoz_ids:\n",
    "        features_multiwoz = reverse_index_multiwoz[cluster_id_mult]\n",
    "        sim_arr.append(jaccard_similarity(features_topical, features_multiwoz))\n",
    "    sims.append(sim_arr)"
   ]
  },
  {
   "cell_type": "code",
   "execution_count": 8,
   "metadata": {},
   "outputs": [
    {
     "data": {
      "text/plain": [
       "(25, 25)"
      ]
     },
     "execution_count": 8,
     "metadata": {},
     "output_type": "execute_result"
    }
   ],
   "source": [
    "len(topical_ids), len(multiwoz_ids)"
   ]
  },
  {
   "cell_type": "code",
   "execution_count": 9,
   "metadata": {},
   "outputs": [],
   "source": [
    "def get_cluster_examples(dialogs, n):\n",
    "    key = get_thread_key(n)\n",
    "    cluster_examples = defaultdict(list)\n",
    "    for dialog_id, dialog in dialogs.items():\n",
    "            if key not in dialog:\n",
    "                continue\n",
    "            thread = dialog[key]\n",
    "            for ind, row in enumerate(thread):                \n",
    "                prev_texts = []\n",
    "                for i in range(0, n):\n",
    "                    text_key = f'text{i}'\n",
    "                    prev_texts.append(row[text_key])\n",
    "                cluster_examples[row['cluster_id']].append(prev_texts)\n",
    "    return cluster_examples\n",
    "\n",
    "topicalchat_cluster_examples = get_cluster_examples(topicalchat_data['dialog'], 2)\n",
    "multiwoz_cluster_examples = get_cluster_examples(multiwoz_data['dialog'], 2)"
   ]
  },
  {
   "cell_type": "code",
   "execution_count": 18,
   "metadata": {},
   "outputs": [
    {
     "name": "stdout",
     "output_type": "stream",
     "text": [
      "0.13333\n",
      "frozenset({'like', 'read', 'think', 'know', 'book', '$', 'Amazon'}) frozenset({'leave', 'reference', 'arrive', 'like', 'need', 'train', 'Cambridge', 'book', 'number', 'help'})\n",
      "-----------multiwoz-------------\n",
      "[['I meant Cambridge please. I would like to arrive in Cambridge on Monday after 21:15.', 'Ok I will book that for you and get you a confirmation number'], ['Ok I will book that for you and get you a confirmation number', \"I don't need anything booked.  I just need to get the arrival time, travel time and price of a train from norwich to cambridge leaving after 21:15.\"], ['The price is 16.50 pounds and the train will arrive in Peterborough by 13:56 Wednesday.  Would you like me to book a ticket for you?', 'Yes, one ticket please, can I also get the reference number?'], ['Yes, one ticket please, can I also get the reference number?', 'I booked you one seat on TR1879 departing Cambridge for Peterborough on Wednesday at 13:06, Reference: xu1qlhvw. Can I help further today?'], ['The one closest to your desired arrive by time will arrive at 12:55 and depart at 11:36.  Would you like me to book this for you?', 'Yes, please. Could I have the reference number as well?']]\n",
      "-----------topicalchat-----------\n",
      "[['Oh cool. Do you like comic books?', 'I do. Do you know how Stan Lee finished his calls ?'], ['It was always with the word Excelsior', 'Cool. Did you know Marvel had to spend 10 years to convince the government that X-men are not human?'], ['Cool. Do you know how the word brainiac came about?', 'Hmm I am not sure, how? DO you know what DC stands for ?'], ['Hmm I am not sure, how? DO you know what DC stands for ?', 'Hmm I am not sure, how? The word Brainiac came from DC for the supervillain in superman'], ['Hmm I am not sure, how? The word Brainiac came from DC for the supervillain in superman', 'Oh cool. DC stands for Detective Comics']]\n"
     ]
    }
   ],
   "source": [
    "tk = 14\n",
    "mw = 6\n",
    "print(jaccard_similarity(reverse_index_topicalchat[tk], reverse_index_multiwoz[mw]))\n",
    "print(reverse_index_topicalchat[tk], reverse_index_multiwoz[mw])\n",
    "\n",
    "print(\"-----------multiwoz-------------\")\n",
    "print(multiwoz_cluster_examples[mw][:5])\n",
    "\n",
    "print(\"-----------topicalchat-----------\")\n",
    "print(topicalchat_cluster_examples[tk][:5])"
   ]
  },
  {
   "cell_type": "code",
   "execution_count": 11,
   "metadata": {},
   "outputs": [],
   "source": [
    "# 0.42857\n",
    "# topic model example\n",
    "# -----------multiwoz-------------\n",
    "# [['No, that will be all. Good bye.', 'Thank you for using our services.'], ['You were great. Goodbye.', 'We are happy to help. Have a good day!'], ['You are welcome.  Is there anything else I can help you with today?', 'No, I am all set.  Have a nice day.  Bye.'], ['You are more than welcome!\\n', 'Ok, have a good day. Goodbye.'], [\"That's all I need, thanks so much for all of your help! Have a great day!\", 'you are welcome ']]\n",
    "# -----------topicalchat-----------\n",
    "# [['its been nice talking to you', 'You as well!  Have a great day!'], ['It was very nice chatting with you. Have a great day', 'You as well.  Have a great day.'], ['You as well.  Have a great day.', 'thanks'], ['I agree, Something to be recognized!! Great chat!!', 'Great chat, cat!'], ['Great chat, cat!', 'Have a great day!!']]"
   ]
  },
  {
   "cell_type": "code",
   "execution_count": 12,
   "metadata": {},
   "outputs": [],
   "source": [
    "import numpy as np\n",
    "z = np.array(sims)"
   ]
  },
  {
   "cell_type": "code",
   "execution_count": 13,
   "metadata": {},
   "outputs": [],
   "source": [
    "import plotly.graph_objects as go\n",
    "\n",
    "fig = go.Figure(data=go.Heatmap(\n",
    "        z=z.T,\n",
    "        x=[f't_{e}' for e in topical_ids],\n",
    "        y=[f'm_{e}' for e in multiwoz_ids],\n",
    "        colorscale='Viridis'))\n",
    "fig.write_html(topicalchat_output_path + 'scatter_plot.html', auto_open=True)"
   ]
  }
 ],
 "metadata": {
  "kernelspec": {
   "display_name": "Python 3",
   "language": "python",
   "name": "python3"
  },
  "language_info": {
   "codemirror_mode": {
    "name": "ipython",
    "version": 3
   },
   "file_extension": ".py",
   "mimetype": "text/x-python",
   "name": "python",
   "nbconvert_exporter": "python",
   "pygments_lexer": "ipython3",
   "version": "3.7.6"
  }
 },
 "nbformat": 4,
 "nbformat_minor": 4
}
