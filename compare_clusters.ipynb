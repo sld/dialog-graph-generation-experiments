{
 "cells": [
  {
   "cell_type": "code",
   "execution_count": 1,
   "metadata": {},
   "outputs": [],
   "source": [
    "import json\n",
    "import random\n",
    "import pathlib\n",
    "import joblib\n",
    "from collections import defaultdict\n",
    "import plotly.express as px"
   ]
  },
  {
   "cell_type": "code",
   "execution_count": 2,
   "metadata": {},
   "outputs": [],
   "source": [
    "def get_data_path(output_key='topicalchat', feature_name='discourse_features', n=2):     \n",
    "    # output_key = 'multi-woz2'\n",
    "    # output_key = 'topicalchat'\n",
    "    # features_name = 'dialog_tagger_features'\n",
    "    # features_name = 'discourse_features'\n",
    "    # features_name = 'topic_model_features'    \n",
    "    output_folder = f'data/results/{output_key}_{n}_{feature_name}/'    \n",
    "    data_path = output_folder + 'data.joblib'\n",
    "    return data_path\n",
    "\n",
    "def get_output_path(output_key='topicalchat', feature_name='discourse_features', n=2):     \n",
    "    # output_key = 'multi-woz2'\n",
    "    # output_key = 'topicalchat'\n",
    "    # features_name = 'dialog_tagger_features'\n",
    "    # features_name = 'discourse_features'\n",
    "    # features_name = 'topic_model_features'    \n",
    "    output_folder = f'data/results/{output_key}_{n}_{feature_name}/'    \n",
    "    return output_folder"
   ]
  },
  {
   "cell_type": "code",
   "execution_count": 3,
   "metadata": {},
   "outputs": [],
   "source": [
    "def load_data(data_path):\n",
    "    data = joblib.load(data_path)\n",
    "    return data\n",
    "\n",
    "def jaccard_similarity(s1, s2):    \n",
    "    if not s1 and not s2:\n",
    "        return 0\n",
    "    res = round(len(s1.intersection(s2)) / len(s1.union(s2)), 5)\n",
    "    if res < 0:\n",
    "        res = 0\n",
    "    if res > 1:\n",
    "        res = 1\n",
    "    return res"
   ]
  },
  {
   "cell_type": "code",
   "execution_count": 4,
   "metadata": {},
   "outputs": [],
   "source": [
    "feature_name = 'topic_model_features'\n",
    "n = 4\n",
    "topicalchat_data_path = get_data_path('topicalchat', feature_name=feature_name, n=n)\n",
    "multiwoz_data_path = get_data_path('multi-woz2', feature_name=feature_name, n=n)\n",
    "topicalchat_output_path = get_output_path('topicalchat', feature_name=feature_name, n=n)\n",
    "multiwoz_output_path = get_output_path('multi-woz2', feature_name=feature_name, n=n)\n",
    "topicalchat_data = load_data(topicalchat_data_path)\n",
    "multiwoz_data = load_data(multiwoz_data_path)"
   ]
  },
  {
   "cell_type": "code",
   "execution_count": 5,
   "metadata": {},
   "outputs": [],
   "source": [
    "reverse_index_topicalchat = {i: c for c, i in sorted(topicalchat_data['new_clusters'].items(), key=lambda x: x[1])} \n",
    "reverse_index_multiwoz = {i: c for c, i in sorted(multiwoz_data['new_clusters'].items(), key=lambda x: x[1])} "
   ]
  },
  {
   "cell_type": "code",
   "execution_count": 6,
   "metadata": {},
   "outputs": [],
   "source": [
    "def get_thread_key(n):    \n",
    "    key = f'thread'\n",
    "    return key\n",
    "\n",
    "\n",
    "def calc_cluster_cluster_usage_distribution(dialogs, n):\n",
    "    key = get_thread_key(n)\n",
    "    cluster_usage_distribution = defaultdict(int)\n",
    "    for dialog_id, dialog in dialogs.items():\n",
    "        if key not in dialog:\n",
    "            continue\n",
    "        thread = dialog[key]\n",
    "        for ind, row in enumerate(thread):\n",
    "            cluster_usage_distribution[row['cluster_id']] += 1\n",
    "    return cluster_usage_distribution\n",
    "\n",
    "topicalchat_usage = calc_cluster_cluster_usage_distribution(topicalchat_data['dialog'], 2)\n",
    "multiwoz_usage = calc_cluster_cluster_usage_distribution(multiwoz_data['dialog'], 2)"
   ]
  },
  {
   "cell_type": "code",
   "execution_count": 7,
   "metadata": {},
   "outputs": [],
   "source": [
    "# topical_ids = list(sorted(reverse_index_topicalchat.keys()))\n",
    "# multiwoz_ids = list(sorted(reverse_index_multiwoz.keys()))\n",
    "top_k = 25\n",
    "topical_ids = [cluster_id for cluster_id, freq in sorted(topicalchat_usage.items(), key=lambda x: x[1], reverse=True)[:top_k]]\n",
    "multiwoz_ids = [cluster_id for cluster_id, freq in sorted(multiwoz_usage.items(), key=lambda x: x[1], reverse=True)[:top_k]]\n",
    "# topical_ids = sorted(reverse_index_topicalchat.keys())\n",
    "# multiwoz_ids = sorted(reverse_index_multiwoz.keys())\n",
    "sims = []\n",
    "for cluster_id_top in topical_ids:\n",
    "    features_topical = reverse_index_topicalchat[cluster_id_top]\n",
    "    sim_arr = []\n",
    "    for cluster_id_mult in multiwoz_ids:\n",
    "        features_multiwoz = reverse_index_multiwoz[cluster_id_mult]\n",
    "        sim_arr.append(jaccard_similarity(features_topical, features_multiwoz))\n",
    "    sims.append(sim_arr)"
   ]
  },
  {
   "cell_type": "code",
   "execution_count": 8,
   "metadata": {},
   "outputs": [
    {
     "data": {
      "text/plain": [
       "(25, 25)"
      ]
     },
     "execution_count": 8,
     "metadata": {},
     "output_type": "execute_result"
    }
   ],
   "source": [
    "len(topical_ids), len(multiwoz_ids)"
   ]
  },
  {
   "cell_type": "code",
   "execution_count": 9,
   "metadata": {},
   "outputs": [],
   "source": [
    "def get_cluster_examples(dialogs, n):\n",
    "    key = get_thread_key(n)\n",
    "    cluster_examples = defaultdict(list)\n",
    "    for dialog_id, dialog in dialogs.items():\n",
    "            if key not in dialog:\n",
    "                continue\n",
    "            thread = dialog[key]\n",
    "            for ind, row in enumerate(thread):                \n",
    "                prev_texts = []\n",
    "                for i in range(0, n):\n",
    "                    text_key = f'text{i}'\n",
    "                    prev_texts.append(row[text_key])\n",
    "                cluster_examples[row['cluster_id']].append(prev_texts)\n",
    "    return cluster_examples\n",
    "\n",
    "topicalchat_cluster_examples = get_cluster_examples(topicalchat_data['dialog'], 2)\n",
    "multiwoz_cluster_examples = get_cluster_examples(multiwoz_data['dialog'], 2)"
   ]
  },
  {
   "cell_type": "code",
   "execution_count": 10,
   "metadata": {},
   "outputs": [
    {
     "name": "stdout",
     "output_type": "stream",
     "text": [
      "0.06557\n",
      "frozenset({'play', 'trunk', 'read', 'line', 'film', 'Amazon', 'people', 'award', 'like', 'win', 'travel', 'car', 'fumble', 'yellow', 'shirt', 'use', 'video', 'movie', 'yeah', 'good', 'game', 'know', '$', 'think', 'book', 'watch'}) frozenset({'number', 'yes', 'hotel', 'start', 'reference', 'area', 'restaurant', 'people', 'taxi', 'House', 'GBP', 'like', 'try', 'travel', 'guest', 'arrive', 'free', 'star', 'stay', 'price', 'place', 'time', 'night', 'booking', 'parking', 'leave', 'day', 'range', 'need', 'Cambridge', 'help', 'sorry', 'successful', 'house', 'book', 'pound', 'train', 'minute', 'table'})\n",
      "-----------multiwoz-------------\n",
      "- S0: no, i just need to make sure it's cheap. oh, and i need parking\n",
      "- S1: I found 1 cheap hotel for you that includes parking. Do you like me to book it?\n",
      "\n",
      "- S0: I found 1 cheap hotel for you that includes parking. Do you like me to book it?\n",
      "- S1: Yes, please. 6 people 3 nights starting on tuesday.\n",
      "\n",
      "- S0: Yes, please. 6 people 3 nights starting on tuesday.\n",
      "- S1: I am sorry but I wasn't able to book that for you for Tuesday. Is there another day you would like to stay or perhaps a shorter stay?\n",
      "\n",
      "- S0: Booking was successful.\n",
      "Reference number is : BMUKPTG6.  Can I help you with anything else today?\n",
      "- S1: I am looking to book a train that is leaving from Cambridge to Bishops Stortford on Friday. \n",
      "\n",
      "- S0: Yes please. I also need the travel time, departure time, and price.\n",
      "- S1: Reference number is : UIFV8FAS. The price is 10.1 GBP and the trip will take about 38 minutes. May I be of any other assistance?\n",
      "\n",
      "\n",
      "-----------topicalchat-----------\n",
      "- S0: No telling! Ha! Maybe even Justin Beiber? Speaking of which, did you know a guy named Justin Beiber was banned from Facebook just for having the same name as the singer? That's just flat out wrong. \n",
      "- S1: Yeah, I didnt know they could do that.  I wonder if the singer had any influence in that.  He seems to be a bit ego driven.\n",
      "\n",
      "- S0: Yeah, I didnt know they could do that.  I wonder if the singer had any influence in that.  He seems to be a bit ego driven.\n",
      "- S1: You are right! I wonder if his name was hidden in the dialogue of Penguins of Madagascar since the film had a running joke, hiding the names of celebrities in the dialogue!\n",
      "\n",
      "- S0: You are right! I wonder if his name was hidden in the dialogue of Penguins of Madagascar since the film had a running joke, hiding the names of celebrities in the dialogue!\n",
      "- S1: I love the penguins!  Robin Williams lead the charge of actors voicing animated characters.\n",
      "\n",
      "- S0: Yea, I never knew MJ did that soundtrack. Have you ever listened to the O brother, Where art Thou? soundtrack? It went platinum 8 times\n",
      "- S1: I have not. Seems like I shoudl check it out! People need to be careful not to put plot spoilers in soundtracks. There were big plot spoilers in Phanton Menace from the soundtrack weeks before the movie was released.\n",
      "\n",
      "- S0: I have not. Seems like I shoudl check it out! People need to be careful not to put plot spoilers in soundtracks. There were big plot spoilers in Phanton Menace from the soundtrack weeks before the movie was released.\n",
      "- S1: Lol that's unfortunate. The Batman Begins soundtrack doesn't have any, all the songs are named after bats\n",
      "\n"
     ]
    }
   ],
   "source": [
    "tk = 14\n",
    "mw = 6\n",
    "print(jaccard_similarity(reverse_index_topicalchat[tk], reverse_index_multiwoz[mw]))\n",
    "print(reverse_index_topicalchat[tk], reverse_index_multiwoz[mw])\n",
    "\n",
    "print(\"-----------multiwoz-------------\")\n",
    "for sents in multiwoz_cluster_examples[mw][:5]:\n",
    "    for i,s in enumerate(sents):\n",
    "        print(f\"- S{i}: {s}\")\n",
    "    print(\"\")\n",
    "print(\"\")\n",
    "print(\"-----------topicalchat-----------\")\n",
    "for sents in topicalchat_cluster_examples[tk][:5]:\n",
    "    for i,s in enumerate(sents):\n",
    "        print(f\"- S{i}: {s}\")\n",
    "    print(\"\")"
   ]
  },
  {
   "cell_type": "code",
   "execution_count": 11,
   "metadata": {},
   "outputs": [],
   "source": [
    "# 0.42857\n",
    "# topic model example\n",
    "# -----------multiwoz-------------\n",
    "# [['No, that will be all. Good bye.', 'Thank you for using our services.'], ['You were great. Goodbye.', 'We are happy to help. Have a good day!'], ['You are welcome.  Is there anything else I can help you with today?', 'No, I am all set.  Have a nice day.  Bye.'], ['You are more than welcome!\\n', 'Ok, have a good day. Goodbye.'], [\"That's all I need, thanks so much for all of your help! Have a great day!\", 'you are welcome ']]\n",
    "# -----------topicalchat-----------\n",
    "# [['its been nice talking to you', 'You as well!  Have a great day!'], ['It was very nice chatting with you. Have a great day', 'You as well.  Have a great day.'], ['You as well.  Have a great day.', 'thanks'], ['I agree, Something to be recognized!! Great chat!!', 'Great chat, cat!'], ['Great chat, cat!', 'Have a great day!!']]"
   ]
  },
  {
   "cell_type": "code",
   "execution_count": 12,
   "metadata": {},
   "outputs": [],
   "source": [
    "import numpy as np\n",
    "z = np.array(sims)"
   ]
  },
  {
   "cell_type": "code",
   "execution_count": 13,
   "metadata": {},
   "outputs": [],
   "source": [
    "import plotly.graph_objects as go\n",
    "\n",
    "fig = go.Figure(data=go.Heatmap(\n",
    "        z=z.T,\n",
    "        x=[f't_{e}' for e in topical_ids],\n",
    "        y=[f'm_{e}' for e in multiwoz_ids],\n",
    "        colorscale='Viridis'))\n",
    "fig.write_html(topicalchat_output_path + f'{feature_name}_{n}_scatter_plot.html', auto_open=True)"
   ]
  }
 ],
 "metadata": {
  "kernelspec": {
   "display_name": "Python 3",
   "language": "python",
   "name": "python3"
  },
  "language_info": {
   "codemirror_mode": {
    "name": "ipython",
    "version": 3
   },
   "file_extension": ".py",
   "mimetype": "text/x-python",
   "name": "python",
   "nbconvert_exporter": "python",
   "pygments_lexer": "ipython3",
   "version": "3.7.6"
  }
 },
 "nbformat": 4,
 "nbformat_minor": 4
}
