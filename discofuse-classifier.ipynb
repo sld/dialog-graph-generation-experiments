{
 "cells": [
  {
   "cell_type": "code",
   "execution_count": 1,
   "metadata": {},
   "outputs": [],
   "source": [
    "from sklearn.feature_extraction.text import TfidfVectorizer\n",
    "from sklearn.preprocessing import LabelEncoder\n",
    "from sklearn import svm\n",
    "from sklearn.metrics import classification_report\n",
    "from sklearn.linear_model import SGDClassifier\n",
    "from sklearn.preprocessing import StandardScaler\n",
    "from sklearn.pipeline import make_pipeline\n",
    "import pandas as pd"
   ]
  },
  {
   "cell_type": "code",
   "execution_count": 2,
   "metadata": {},
   "outputs": [],
   "source": [
    "data_wiki = pd.read_csv('discofuse_v1/wikipedia/train_balanced.tsv', sep='\\t')\n",
    "data_sports = pd.read_csv('discofuse_v1/sports/train_balanced.tsv', sep='\\t')"
   ]
  },
  {
   "cell_type": "code",
   "execution_count": 3,
   "metadata": {},
   "outputs": [
    {
     "data": {
      "text/plain": [
       "((4490804, 8), (11838624, 8))"
      ]
     },
     "execution_count": 3,
     "metadata": {},
     "output_type": "execute_result"
    }
   ],
   "source": [
    "data_wiki.shape, data_sports.shape"
   ]
  },
  {
   "cell_type": "code",
   "execution_count": 4,
   "metadata": {},
   "outputs": [],
   "source": [
    "data_train = pd.concat([data_wiki, data_sports])\n",
    "# data_train = data_wiki"
   ]
  },
  {
   "cell_type": "code",
   "execution_count": 5,
   "metadata": {},
   "outputs": [],
   "source": [
    "data_train = data_train[['coherent_first_sentence', 'coherent_second_sentence', 'discourse_type']]"
   ]
  },
  {
   "cell_type": "code",
   "execution_count": 6,
   "metadata": {},
   "outputs": [],
   "source": [
    "paired_data_train = data_train[pd.isna(data_train['coherent_second_sentence'])]\n",
    "data_train = None\n",
    "data_wiki = None\n",
    "data_sports = None"
   ]
  },
  {
   "cell_type": "code",
   "execution_count": 8,
   "metadata": {},
   "outputs": [],
   "source": [
    "paired_X_train = list(paired_data_train['coherent_first_sentence'])\n",
    "paired_y_train = list(paired_data_train['discourse_type'])"
   ]
  },
  {
   "cell_type": "code",
   "execution_count": 11,
   "metadata": {},
   "outputs": [
    {
     "data": {
      "text/plain": [
       "(12152664, 12152664)"
      ]
     },
     "execution_count": 11,
     "metadata": {},
     "output_type": "execute_result"
    }
   ],
   "source": [
    "len(paired_X_train), len(paired_y_train)"
   ]
  },
  {
   "cell_type": "code",
   "execution_count": 12,
   "metadata": {},
   "outputs": [],
   "source": [
    "# preprocess\n",
    "tfidf = TfidfVectorizer(ngram_range=(1, 2), max_features=200000)\n",
    "tfidf.fit(paired_X_train)\n",
    "X = tfidf.transform(paired_X_train)\n",
    "label_encoder = LabelEncoder().fit(paired_y_train)\n",
    "y = label_encoder.transform(paired_y_train)"
   ]
  },
  {
   "cell_type": "code",
   "execution_count": 13,
   "metadata": {},
   "outputs": [],
   "source": [
    "clf = SGDClassifier(max_iter=1000, tol=1e-3, n_jobs=-1)\n",
    "clf = make_pipeline(StandardScaler(with_mean=False), clf)"
   ]
  },
  {
   "cell_type": "code",
   "execution_count": 14,
   "metadata": {},
   "outputs": [
    {
     "data": {
      "text/plain": [
       "Pipeline(memory=None,\n",
       "     steps=[('standardscaler', StandardScaler(copy=True, with_mean=False, with_std=True)), ('sgdclassifier', SGDClassifier(alpha=0.0001, average=False, class_weight=None,\n",
       "       early_stopping=False, epsilon=0.1, eta0=0.0, fit_intercept=True,\n",
       "       l1_ratio=0.15, learning_rate='optimal', loss='hinge', m..._state=None, shuffle=True, tol=0.001,\n",
       "       validation_fraction=0.1, verbose=0, warm_start=False))])"
      ]
     },
     "execution_count": 14,
     "metadata": {},
     "output_type": "execute_result"
    }
   ],
   "source": [
    "clf.fit(X, y)"
   ]
  },
  {
   "cell_type": "code",
   "execution_count": 15,
   "metadata": {},
   "outputs": [
    {
     "data": {
      "text/plain": [
       "((44590, 8), (121351, 8))"
      ]
     },
     "execution_count": 15,
     "metadata": {},
     "output_type": "execute_result"
    }
   ],
   "source": [
    "data_wiki_test = pd.read_csv('discofuse_v1/wikipedia/test_balanced.tsv', sep='\\t')\n",
    "data_sports_test = pd.read_csv('discofuse_v1/sports/test_balanced.tsv', sep='\\t')\n",
    "data_wiki_test.shape, data_sports_test.shape"
   ]
  },
  {
   "cell_type": "code",
   "execution_count": 16,
   "metadata": {},
   "outputs": [
    {
     "data": {
      "text/plain": [
       "(123757, 123757)"
      ]
     },
     "execution_count": 16,
     "metadata": {},
     "output_type": "execute_result"
    }
   ],
   "source": [
    "data_test = pd.concat([data_wiki_test, data_sports_test])\n",
    "data_test = data_test[['coherent_first_sentence', 'coherent_second_sentence', 'discourse_type']]\n",
    "paired_data_test = data_test[pd.isna(data_test['coherent_second_sentence'])]\n",
    "paired_X_test = list(paired_data_test['coherent_first_sentence'])\n",
    "paired_y_test = list(paired_data_test['discourse_type'])\n",
    "len(paired_X_test), len(paired_y_test)"
   ]
  },
  {
   "cell_type": "code",
   "execution_count": 17,
   "metadata": {},
   "outputs": [
    {
     "data": {
      "text/plain": [
       "array(['SINGLE_CONN_INNER_ANAPHORA'], dtype='<U26')"
      ]
     },
     "execution_count": 17,
     "metadata": {},
     "output_type": "execute_result"
    }
   ],
   "source": [
    "label_encoder.inverse_transform([3])"
   ]
  },
  {
   "cell_type": "code",
   "execution_count": 18,
   "metadata": {},
   "outputs": [],
   "source": [
    "X_test = tfidf.transform(paired_X_test)\n",
    "y_test = label_encoder.transform(paired_y_test)"
   ]
  },
  {
   "cell_type": "code",
   "execution_count": 19,
   "metadata": {},
   "outputs": [
    {
     "name": "stdout",
     "output_type": "stream",
     "text": [
      "              precision    recall  f1-score   support\n",
      "\n",
      "           0       0.79      0.76      0.78     13191\n",
      "           1       0.79      0.76      0.78      6336\n",
      "           2       0.83      0.89      0.86     27555\n",
      "           3       0.54      0.42      0.47      6154\n",
      "           4       0.72      0.72      0.72      4633\n",
      "           5       0.87      0.91      0.89     16935\n",
      "           6       0.75      0.80      0.78     26804\n",
      "           7       0.52      0.34      0.41      6527\n",
      "           8       0.78      0.77      0.78     15622\n",
      "\n",
      "   micro avg       0.78      0.78      0.78    123757\n",
      "   macro avg       0.73      0.71      0.72    123757\n",
      "weighted avg       0.77      0.78      0.78    123757\n",
      "\n"
     ]
    }
   ],
   "source": [
    "# test, y_true\n",
    "y_pred = clf.predict(X_test)"
   ]
  },
  {
   "cell_type": "code",
   "execution_count": 27,
   "metadata": {},
   "outputs": [
    {
     "name": "stdout",
     "output_type": "stream",
     "text": [
      "                            precision    recall  f1-score   support\n",
      "\n",
      "         SINGLE_APPOSITION       0.79      0.76      0.78     13191\n",
      "          SINGLE_CATAPHORA       0.79      0.76      0.78      6336\n",
      "         SINGLE_CONN_INNER       0.83      0.89      0.86     27555\n",
      "SINGLE_CONN_INNER_ANAPHORA       0.54      0.42      0.47      6154\n",
      "         SINGLE_CONN_START       0.72      0.72      0.72      4633\n",
      "           SINGLE_RELATIVE       0.87      0.91      0.89     16935\n",
      "            SINGLE_S_COORD       0.75      0.80      0.78     26804\n",
      "   SINGLE_S_COORD_ANAPHORA       0.52      0.34      0.41      6527\n",
      "           SINGLE_VP_COORD       0.78      0.77      0.78     15622\n",
      "\n",
      "                 micro avg       0.78      0.78      0.78    123757\n",
      "                 macro avg       0.73      0.71      0.72    123757\n",
      "              weighted avg       0.77      0.78      0.78    123757\n",
      "\n"
     ]
    }
   ],
   "source": [
    "import numpy as np\n",
    "target_strings = label_encoder.inverse_transform(np.arange(9))\n",
    "print(classification_report(y_test, y_pred, target_names=target_strings))"
   ]
  },
  {
   "cell_type": "code",
   "execution_count": 25,
   "metadata": {},
   "outputs": [],
   "source": []
  },
  {
   "cell_type": "code",
   "execution_count": 20,
   "metadata": {},
   "outputs": [],
   "source": [
    "import joblib"
   ]
  },
  {
   "cell_type": "code",
   "execution_count": 21,
   "metadata": {},
   "outputs": [],
   "source": [
    "joblib.dump(clf, 'discofuse_sgd_single.joblib')\n",
    "joblib.dump(tfidf, 'discofuse_tfidf_single.joblib')\n",
    "joblib.dump(label_encoder, 'discofuse_le_single.joblib')"
   ]
  },
  {
   "cell_type": "code",
   "execution_count": 28,
   "metadata": {},
   "outputs": [],
   "source": [
    "with open('sgd_single_result.txt', 'w') as f:\n",
    "    print(classification_report(y_test, y_pred, target_names=target_strings), file=f)"
   ]
  }
 ],
 "metadata": {
  "kernelspec": {
   "display_name": "Python 3",
   "language": "python",
   "name": "python3"
  },
  "language_info": {
   "codemirror_mode": {
    "name": "ipython",
    "version": 3
   },
   "file_extension": ".py",
   "mimetype": "text/x-python",
   "name": "python",
   "nbconvert_exporter": "python",
   "pygments_lexer": "ipython3",
   "version": "3.7.6"
  }
 },
 "nbformat": 4,
 "nbformat_minor": 4
}
