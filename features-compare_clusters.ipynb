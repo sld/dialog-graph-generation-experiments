{
 "cells": [
  {
   "cell_type": "code",
   "execution_count": 1,
   "metadata": {},
   "outputs": [],
   "source": [
    "import json\n",
    "import random\n",
    "import pathlib\n",
    "import joblib\n",
    "from collections import defaultdict\n",
    "import plotly.express as px"
   ]
  },
  {
   "cell_type": "code",
   "execution_count": 2,
   "metadata": {},
   "outputs": [],
   "source": [
    "def get_data_path(output_key='topicalchat', feature_name='discourse_features', n=2):     \n",
    "    # output_key = 'multi-woz2'\n",
    "    # output_key = 'topicalchat'\n",
    "    # features_name = 'dialog_tagger_features'\n",
    "    # features_name = 'discourse_features'\n",
    "    # features_name = 'topic_model_features'    \n",
    "    output_folder = f'data/results/{output_key}_{n}_{feature_name}/'    \n",
    "    data_path = output_folder + 'data.joblib'\n",
    "    return data_path\n",
    "\n",
    "def get_output_path(output_key='topicalchat', feature_name='discourse_features', n=2):     \n",
    "    # output_key = 'multi-woz2'\n",
    "    # output_key = 'topicalchat'\n",
    "    # features_name = 'dialog_tagger_features'\n",
    "    # features_name = 'discourse_features'\n",
    "    # features_name = 'topic_model_features'    \n",
    "    output_folder = f'data/results/{output_key}_{n}_{feature_name}/'    \n",
    "    return output_folder"
   ]
  },
  {
   "cell_type": "code",
   "execution_count": 3,
   "metadata": {},
   "outputs": [],
   "source": [
    "def load_data(data_path):\n",
    "    data = joblib.load(data_path)\n",
    "    return data\n",
    "\n",
    "def jaccard_similarity(s1, s2):    \n",
    "    if not s1 and not s2:\n",
    "        return 0\n",
    "    res = round(len(s1.intersection(s2)) / len(s1.union(s2)), 5)\n",
    "    if res < 0:\n",
    "        res = 0\n",
    "    if res > 1:\n",
    "        res = 1\n",
    "    return res"
   ]
  },
  {
   "cell_type": "code",
   "execution_count": 4,
   "metadata": {},
   "outputs": [],
   "source": [
    "dataset_name = 'topicalchat'\n",
    "feature_name_1 = 'dialog_tagger_features'\n",
    "n = 4\n",
    "f1_data_path = get_data_path(dataset_name, feature_name=feature_name_1, n=n)\n",
    "f1_output_path = get_output_path(dataset_name, feature_name=feature_name_1, n=n)\n",
    "f1_data = load_data(f1_data_path)\n",
    "\n",
    "feature_name_2 = 'discourse_features'\n",
    "f2_data_path = get_data_path(dataset_name, feature_name=feature_name_2, n=n)\n",
    "f2_output_path = get_output_path(dataset_name, feature_name=feature_name_2, n=n)\n",
    "f2_data = load_data(f2_data_path)"
   ]
  },
  {
   "cell_type": "code",
   "execution_count": 5,
   "metadata": {},
   "outputs": [],
   "source": [
    "def calc_row_hash(row):\n",
    "    return hash(row['text0'] + row['text1'] + row['text2'] + row['text3'])"
   ]
  },
  {
   "cell_type": "code",
   "execution_count": 6,
   "metadata": {},
   "outputs": [],
   "source": [
    "reverse_index_f1 = {i: c for c, i in sorted(f1_data['new_clusters'].items(), key=lambda x: x[1])} \n",
    "reverse_index_f2 = {i: c for c, i in sorted(f2_data['new_clusters'].items(), key=lambda x: x[1])} "
   ]
  },
  {
   "cell_type": "code",
   "execution_count": 7,
   "metadata": {},
   "outputs": [],
   "source": [
    "def get_thread_key(n):    \n",
    "    key = f'thread'\n",
    "    return key\n",
    "\n",
    "\n",
    "def calc_cluster_cluster_usage_distribution(dialogs, n):\n",
    "    key = get_thread_key(n)\n",
    "    cluster_usage_distribution = defaultdict(int)\n",
    "    for dialog_id, dialog in dialogs.items():\n",
    "        if key not in dialog:\n",
    "            continue\n",
    "        thread = dialog[key]\n",
    "        for ind, row in enumerate(thread):\n",
    "            cluster_usage_distribution[row['cluster_id']] += 1\n",
    "    return cluster_usage_distribution\n",
    "\n",
    "def calc_cluster_rows_hashes(dialogs, n):\n",
    "    key = get_thread_key(n)\n",
    "    cluster_rows = defaultdict(set)\n",
    "    for dialog_id, dialog in dialogs.items():\n",
    "        if key not in dialog:\n",
    "            continue\n",
    "        thread = dialog[key]\n",
    "        for ind, row in enumerate(thread):\n",
    "            hash_val = calc_row_hash(row)\n",
    "            cluster_rows[row['cluster_id']].add(hash_val)\n",
    "    return cluster_rows\n",
    "\n",
    "f1_rows_hashes = calc_cluster_rows_hashes(f1_data['dialog'], n)\n",
    "f2_rows_hashes = calc_cluster_rows_hashes(f2_data['dialog'], n)\n",
    "f1_usage = calc_cluster_cluster_usage_distribution(f1_data['dialog'], n)\n",
    "f2_usage = calc_cluster_cluster_usage_distribution(f2_data['dialog'], n)"
   ]
  },
  {
   "cell_type": "code",
   "execution_count": 8,
   "metadata": {},
   "outputs": [],
   "source": [
    "top_k = 10\n",
    "f1_ids = [cluster_id for cluster_id, freq in sorted(f1_usage.items(), key=lambda x: x[1], reverse=True)[:top_k]]\n",
    "f2_ids = [cluster_id for cluster_id, freq in sorted(f2_usage.items(), key=lambda x: x[1], reverse=True)[:top_k]]\n",
    "sims = []\n",
    "for cluster_id_f1 in f1_ids:\n",
    "    f1_rows = f1_rows_hashes[cluster_id_f1]\n",
    "    sim_arr = []\n",
    "    for cluster_id_f2 in f2_ids:\n",
    "        f2_rows = f2_rows_hashes[cluster_id_f2]\n",
    "        sim_arr.append(jaccard_similarity(f1_rows, f2_rows))\n",
    "    sims.append(sim_arr)"
   ]
  },
  {
   "cell_type": "code",
   "execution_count": 9,
   "metadata": {},
   "outputs": [
    {
     "data": {
      "text/plain": [
       "(10, 10)"
      ]
     },
     "execution_count": 9,
     "metadata": {},
     "output_type": "execute_result"
    }
   ],
   "source": [
    "len(f1_ids), len(f2_ids)"
   ]
  },
  {
   "cell_type": "code",
   "execution_count": 10,
   "metadata": {},
   "outputs": [],
   "source": [
    "def get_cluster_examples(dialogs, n):\n",
    "    key = get_thread_key(n)\n",
    "    cluster_examples = defaultdict(list)\n",
    "    for dialog_id, dialog in dialogs.items():\n",
    "            if key not in dialog:\n",
    "                continue\n",
    "            thread = dialog[key]\n",
    "            for ind, row in enumerate(thread):                \n",
    "                prev_texts = []\n",
    "                for i in range(0, n):\n",
    "                    text_key = f'text{i}'\n",
    "                    prev_texts.append(row[text_key])\n",
    "                cluster_examples[row['cluster_id']].append(prev_texts)\n",
    "    return cluster_examples\n",
    "\n",
    "f1_examples = get_cluster_examples(f1_data['dialog'], n)\n",
    "f2_examples = get_cluster_examples(f2_data['dialog'], n)"
   ]
  },
  {
   "cell_type": "code",
   "execution_count": 14,
   "metadata": {},
   "outputs": [
    {
     "name": "stdout",
     "output_type": "stream",
     "text": [
      "0.00178\n",
      "\n",
      "-----------dialog_tagger_features-------------\n",
      "frozenset({'dim_Feedback comm_func_Feedback', 'dim_Task comm_func_SetQ', 'dim_Task comm_func_Statement'})\n",
      "\n",
      "- S0: How are you today?\n",
      "- S1: Great! I was just doing a little shopping online. Browsing the Amazon internet jungle... You?\n",
      "- S2: Amazon is trying to take over the world. \n",
      "- S3: It amazes me that the company is only 25 years old and is already valued as the most valuable retailer in the US. Ahead of Walmart!\n",
      "\n",
      "- S0: I like Chamber of Secrets.\n",
      "- S1: Is that the second book?\n",
      "- S2: Yes..you are right. \n",
      "- S3: What was it about again?\n",
      "\n",
      "- S0: Is that the second book?\n",
      "- S1: Yes..you are right. \n",
      "- S2: What was it about again?\n",
      "- S3: It's Harry's third year at Hogwarts. Do you know?\n",
      "\n",
      "- S0: Yes..you are right. \n",
      "- S1: What was it about again?\n",
      "- S2: It's Harry's third year at Hogwarts. Do you know?\n",
      "- S3: Third year? I thought second year. \n",
      "\n",
      "- S0: What was it about again?\n",
      "- S1: It's Harry's third year at Hogwarts. Do you know?\n",
      "- S2: Third year? I thought second year. \n",
      "- S3: Their second year of magical education. \n",
      "\n",
      "\n",
      "-----------discourse_features-----------\n",
      "frozenset({'PAIR_CONN', 'PAIR_CONN_ANAPHORA', 'SINGLE_APPOSITION', 'SINGLE_S_COORD', 'PAIR_ANAPHORA'})\n",
      "\n",
      "- S0: Totally agree - if they have the ability and the desire to play in the NFL, awesome.  But I sure as heck wouldn't want my daughters anywhere near that field!\n",
      "- S1: Even if they were cheerleaders I'd be concerned.  Believe it or not, cheerleaders have more injuries than any other sport.  \n",
      "- S2: College cheerleaders for sure have a ton of injuries as they do way more of the flipping and gymnastics.  I've seen NFL Cheerleaders up close and they basically just stand there for 80% of the game....\n",
      "- S3: Some teams have some pretty strict rules about cheerleaders, especially in terms of their interaction with the players.\n",
      "\n",
      "- S0: Even if they were cheerleaders I'd be concerned.  Believe it or not, cheerleaders have more injuries than any other sport.  \n",
      "- S1: College cheerleaders for sure have a ton of injuries as they do way more of the flipping and gymnastics.  I've seen NFL Cheerleaders up close and they basically just stand there for 80% of the game....\n",
      "- S2: Some teams have some pretty strict rules about cheerleaders, especially in terms of their interaction with the players.\n",
      "- S3: I bet back in the day the distraction proved to be big enough of a problem that those non-fraternization rules were implemented.  Today, it's so much of a business that I doubt it would be much of an issue\n",
      "\n",
      "- S0: Hi!  Do you follow current celebrities?\n",
      "- S1: I follow quite a bit! What about you? I recently followed Stormy Daniels and her friend who confirmed Stormy's affair with Trump. She defended her efforts to get out of that  $130k hush agreement made before the election. \n",
      "- S2: I heard she wanted to be on the Apprentice too.\n",
      "- S3: Do you also follow the YouTube celebrity Jenna Marble? It's crazy she earns over $346k annually from her channel. I need to start a YouTube channel now!  \n",
      "\n",
      "- S0: I follow quite a bit! What about you? I recently followed Stormy Daniels and her friend who confirmed Stormy's affair with Trump. She defended her efforts to get out of that  $130k hush agreement made before the election. \n",
      "- S1: I heard she wanted to be on the Apprentice too.\n",
      "- S2: Do you also follow the YouTube celebrity Jenna Marble? It's crazy she earns over $346k annually from her channel. I need to start a YouTube channel now!  \n",
      "- S3: I dont.  I need to start a youtube channel.  I could leave my current job for that.  Thats crazy.\n",
      "\n",
      "- S0: Nice, Alicia Keys is real talented. I never knew Spielberg actually played the clarinet on the jaws soundtrack\n",
      "- S1: Have you played Sonic 3? Michael Jackson helped on that soundtrack.\n",
      "- S2: Yea, I never knew MJ did that soundtrack. Have you ever listened to the O brother, Where art Thou? soundtrack? It went platinum 8 times\n",
      "- S3: I have not. Seems like I shoudl check it out! People need to be careful not to put plot spoilers in soundtracks. There were big plot spoilers in Phanton Menace from the soundtrack weeks before the movie was released.\n",
      "\n"
     ]
    }
   ],
   "source": [
    "f1_cluster_id = 18\n",
    "f2_cluster_id = 14\n",
    "print(jaccard_similarity(f1_rows_hashes[f1_cluster_id], f2_rows_hashes[f2_cluster_id]))\n",
    "print()\n",
    "\n",
    "print(f\"-----------{feature_name_1}-------------\")\n",
    "print(reverse_index_f1[f1_cluster_id])\n",
    "print()\n",
    "for sents in f1_examples[f1_cluster_id][:5]:\n",
    "    for i,s in enumerate(sents):\n",
    "        print(f\"- S{i}: {s}\")\n",
    "    print(\"\")\n",
    "print(\"\")\n",
    "print(f\"-----------{feature_name_2}-----------\")\n",
    "print(reverse_index_f2[f2_cluster_id])\n",
    "print()\n",
    "for sents in f2_examples[f2_cluster_id][:5]:\n",
    "    for i,s in enumerate(sents):\n",
    "        print(f\"- S{i}: {s}\")\n",
    "    print(\"\")"
   ]
  },
  {
   "cell_type": "code",
   "execution_count": 12,
   "metadata": {},
   "outputs": [],
   "source": [
    "import numpy as np\n",
    "z = np.array(sims)"
   ]
  },
  {
   "cell_type": "code",
   "execution_count": 13,
   "metadata": {},
   "outputs": [],
   "source": [
    "import plotly.graph_objects as go\n",
    "\n",
    "fig = go.Figure(data=go.Heatmap(\n",
    "        z=z.T,\n",
    "        x=[f'f1_{e}' for e in f1_ids],\n",
    "        y=[f'f2_{e}' for e in f2_ids],\n",
    "        colorscale='Viridis'))\n",
    "fig.update_layout(\n",
    "    title=f\"{feature_name_1} clusters with {feature_name_2} clusters in {dataset_name}\",\n",
    "    xaxis_title=feature_name_1 + \" clusters\",\n",
    "    yaxis_title=feature_name_2 + \" clusters\",\n",
    ")\n",
    "fig.write_html(f1_output_path + f'test_{dataset_name}_{feature_name_1}_{feature_name_2}_compare_{n}_scatter_plot.html', auto_open=True)"
   ]
  }
 ],
 "metadata": {
  "kernelspec": {
   "display_name": "Python 3",
   "language": "python",
   "name": "python3"
  },
  "language_info": {
   "codemirror_mode": {
    "name": "ipython",
    "version": 3
   },
   "file_extension": ".py",
   "mimetype": "text/x-python",
   "name": "python",
   "nbconvert_exporter": "python",
   "pygments_lexer": "ipython3",
   "version": "3.7.6"
  }
 },
 "nbformat": 4,
 "nbformat_minor": 4
}
