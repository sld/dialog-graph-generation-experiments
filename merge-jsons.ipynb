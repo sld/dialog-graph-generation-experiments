{
 "cells": [
  {
   "cell_type": "code",
   "execution_count": 18,
   "metadata": {},
   "outputs": [],
   "source": [
    "import json"
   ]
  },
  {
   "cell_type": "code",
   "execution_count": 43,
   "metadata": {},
   "outputs": [],
   "source": [
    "fname_prev_features = 'data/multi-woz2.spacy.dialogact.discourse.2909.json'\n",
    "fname_new_features = 'data/mutiwoz2-dima-dialogtagger.json'\n",
    "out_fname = 'data/multi-woz2.spacy.dialogact.discourse.dialogtagger.0110.json'"
   ]
  },
  {
   "cell_type": "code",
   "execution_count": 44,
   "metadata": {},
   "outputs": [],
   "source": [
    "with open(fname_prev_features, 'r') as f:\n",
    "    dialogs_prev_features = json.load(f)\n",
    "\n",
    "with open(fname_new_features, 'r') as f:\n",
    "    dialogs_new_features = json.load(f)"
   ]
  },
  {
   "cell_type": "code",
   "execution_count": 45,
   "metadata": {},
   "outputs": [],
   "source": [
    "dialogs_new_features = [item for sublist in dialogs_new_features for item in sublist]"
   ]
  },
  {
   "cell_type": "code",
   "execution_count": 47,
   "metadata": {},
   "outputs": [
    {
     "data": {
      "text/plain": [
       "(10438, 10438)"
      ]
     },
     "execution_count": 47,
     "metadata": {},
     "output_type": "execute_result"
    }
   ],
   "source": [
    "len(dialogs_new_features), len(dialogs_prev_features)"
   ]
  },
  {
   "cell_type": "code",
   "execution_count": 48,
   "metadata": {},
   "outputs": [],
   "source": [
    "for ind, dialog_id in enumerate(dialogs_prev_features.keys()):\n",
    "    dialog_old = dialogs_prev_features[dialog_id]\n",
    "    dialog_new = dialogs_new_features[ind]\n",
    "    assert len(dialog_old['thread']) == len(dialog_new['thread'])\n",
    "    for ind, row in enumerate(dialog_old['thread']):\n",
    "        row['SVM_predictions'] = dialog_new['thread'][ind]['SVM_predictions']"
   ]
  },
  {
   "cell_type": "code",
   "execution_count": 49,
   "metadata": {},
   "outputs": [],
   "source": [
    "with open(out_fname, 'w') as f:\n",
    "    json.dump(dialogs_prev_features, f, ensure_ascii=False, indent=2)"
   ]
  }
 ],
 "metadata": {
  "kernelspec": {
   "display_name": "Python 3",
   "language": "python",
   "name": "python3"
  },
  "language_info": {
   "codemirror_mode": {
    "name": "ipython",
    "version": 3
   },
   "file_extension": ".py",
   "mimetype": "text/x-python",
   "name": "python",
   "nbconvert_exporter": "python",
   "pygments_lexer": "ipython3",
   "version": "3.7.6"
  }
 },
 "nbformat": 4,
 "nbformat_minor": 4
}
