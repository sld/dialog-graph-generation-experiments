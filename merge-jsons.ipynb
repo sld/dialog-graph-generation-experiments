{
 "cells": [
  {
   "cell_type": "code",
   "execution_count": 8,
   "metadata": {},
   "outputs": [],
   "source": [
    "import json"
   ]
  },
  {
   "cell_type": "code",
   "execution_count": 9,
   "metadata": {},
   "outputs": [],
   "source": [
    "fname_prev_features = 'data/convai1.spacy.dialogact.discourse.2909.json'\n",
    "fname_new_features = 'data/convai1-dima-dialogtagger.json'\n",
    "out_fname = 'data/convai1.spacy.dialogact.discourse.dialogtagger.3009.json'"
   ]
  },
  {
   "cell_type": "code",
   "execution_count": 10,
   "metadata": {},
   "outputs": [],
   "source": [
    "with open(fname_prev_features, 'r') as f:\n",
    "    dialogs_prev_features = json.load(f)\n",
    "\n",
    "with open(fname_new_features, 'r') as f:\n",
    "    dialogs_new_features = json.load(f)"
   ]
  },
  {
   "cell_type": "code",
   "execution_count": 11,
   "metadata": {},
   "outputs": [],
   "source": [
    "for dialog_id in dialogs_prev_features.keys():\n",
    "    dialog_old = dialogs_prev_features[dialog_id]\n",
    "    dialog_new = dialogs_new_features[dialog_id]    \n",
    "    for ind, row in enumerate(dialog_old['thread']):\n",
    "        row['SVM_predictions'] = dialog_new['thread'][ind]['SVM_predictions']"
   ]
  },
  {
   "cell_type": "code",
   "execution_count": 12,
   "metadata": {},
   "outputs": [],
   "source": [
    "with open(out_fname, 'w') as f:\n",
    "    json.dump(dialogs_prev_features, f, ensure_ascii=False, indent=2)"
   ]
  }
 ],
 "metadata": {
  "kernelspec": {
   "display_name": "Python 3",
   "language": "python",
   "name": "python3"
  },
  "language_info": {
   "codemirror_mode": {
    "name": "ipython",
    "version": 3
   },
   "file_extension": ".py",
   "mimetype": "text/x-python",
   "name": "python",
   "nbconvert_exporter": "python",
   "pygments_lexer": "ipython3",
   "version": "3.7.6"
  }
 },
 "nbformat": 4,
 "nbformat_minor": 4
}
