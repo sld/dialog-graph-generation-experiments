{
 "cells": [
  {
   "cell_type": "code",
   "execution_count": 1,
   "metadata": {},
   "outputs": [],
   "source": [
    "import json\n",
    "from collections import defaultdict"
   ]
  },
  {
   "cell_type": "code",
   "execution_count": 2,
   "metadata": {},
   "outputs": [],
   "source": [
    "input_json = 'data/convai1.spacy.dialogact.discourse.dialogtagger.3009.json'"
   ]
  },
  {
   "cell_type": "code",
   "execution_count": 3,
   "metadata": {},
   "outputs": [],
   "source": [
    "with open(input_json, 'r') as f:\n",
    "    dialogs = json.load(f)"
   ]
  },
  {
   "cell_type": "code",
   "execution_count": 4,
   "metadata": {},
   "outputs": [],
   "source": [
    "def get_features(utterance):\n",
    "    dialog_act_features = [p[0] for p in utterance['predictions'] if '_dci' in p[0]]\n",
    "    pos_features = \"|\".join([feats['pos'] for feats in utterance['features_dict']])\n",
    "    single_discourse_type = utterance['single_discourse_type']\n",
    "    pair_discourse_type = utterance.get('pair_discourse_type')\n",
    "    \n",
    "    dialog_tagger_features = [f\"dim_{p['dimension']} comm_func_{p['communicative_function']}\" for p in utterance['SVM_predictions']]\n",
    "\n",
    "    features = dialog_act_features  + dialog_tagger_features + [single_discourse_type] #+ [pos_features]\n",
    "    if pair_discourse_type and pair_discourse_type != 'PAIR_NONE':\n",
    "        features += [pair_discourse_type]\n",
    "    return features\n",
    "\n",
    "# def get_features(utterance):\n",
    "#     dialog_act_features = [p[0] for p in utterance['predictions']]\n",
    "#     pos_features = \"|\".join([feats['pos'] for feats in utterance['features_dict']])\n",
    "#     single_discourse_type = utterance['single_discourse_type']\n",
    "#     pair_discourse_type = utterance.get('pair_discourse_type')\n",
    "    \n",
    "#     dialog_tagger_features = [f\"dim_{p['dimension']} comm_func_{p['communicative_function']}\" for p in utterance['SVM_predictions']]\n",
    "\n",
    "#     features = dialog_act_features  + dialog_tagger_features + [single_discourse_type] + [pos_features]\n",
    "#     if pair_discourse_type:\n",
    "#         features += [pair_discourse_type]\n",
    "#     return features"
   ]
  },
  {
   "cell_type": "code",
   "execution_count": 5,
   "metadata": {},
   "outputs": [],
   "source": [
    "for dialog_id, dialog in dialogs.items():\n",
    "    thread = dialog['thread']\n",
    "    for row in thread:\n",
    "        features = get_features(row)\n",
    "        row['final_features'] = frozenset(features)"
   ]
  },
  {
   "cell_type": "code",
   "execution_count": 6,
   "metadata": {},
   "outputs": [],
   "source": [
    "def collect_clusters(dialogs):\n",
    "    clusters = set()\n",
    "    for dialog_id, dialog in dialogs.items():\n",
    "        thread = dialog['thread']\n",
    "        for ind, row in enumerate(thread):\n",
    "            clusters.add(row['final_features'])\n",
    "    # Enumerate + add indicies to row\n",
    "    clusters = sorted(list(clusters))                \n",
    "    clusters_index = {f: i for i, f in enumerate(clusters)}\n",
    "    for dialog_id, dialog in dialogs.items():\n",
    "        thread = dialog['thread']\n",
    "        for ind, row in enumerate(thread):\n",
    "            row['cluster_id'] = clusters_index[row['final_features']]\n",
    "    return clusters_index"
   ]
  },
  {
   "cell_type": "code",
   "execution_count": 7,
   "metadata": {},
   "outputs": [],
   "source": [
    "def jaccard_similarity(s1, s2):\n",
    "    return len(s1.intersection(s2)) / len(s1.union(s2))"
   ]
  },
  {
   "cell_type": "code",
   "execution_count": 8,
   "metadata": {},
   "outputs": [],
   "source": [
    "uno_clusters = collect_clusters(dialogs)"
   ]
  },
  {
   "cell_type": "code",
   "execution_count": 9,
   "metadata": {},
   "outputs": [
    {
     "data": {
      "text/plain": [
       "((frozenset({'PAIR_ANAPHORA',\n",
       "             'SINGLE_S_COORD',\n",
       "             'dim_Task comm_func_Statement'}),\n",
       "  246),\n",
       " 248)"
      ]
     },
     "execution_count": 9,
     "metadata": {},
     "output_type": "execute_result"
    }
   ],
   "source": [
    "list(uno_clusters.items())[-2], len(list(uno_clusters.items()))"
   ]
  },
  {
   "cell_type": "code",
   "execution_count": 10,
   "metadata": {},
   "outputs": [],
   "source": [
    "def get_sims_info(clusters):\n",
    "    sims_info = list(range(len(clusters)))\n",
    "    reverse_index = {i: c for c, i in clusters.items()}            \n",
    "    for i in range(len(clusters)):\n",
    "        max_sim = 0\n",
    "        max_ind = 0\n",
    "        for j in range(i+1, len(clusters)):        \n",
    "            cur_sim = jaccard_similarity(reverse_index[i], reverse_index[j])\n",
    "            if max_sim < cur_sim:\n",
    "                max_sim = cur_sim\n",
    "                max_ind = j\n",
    "        sims_info[i] = {'source_ind': i, 'target_ind': max_ind, 'sim': max_sim}\n",
    "    return sims_info"
   ]
  },
  {
   "cell_type": "code",
   "execution_count": 11,
   "metadata": {},
   "outputs": [
    {
     "data": {
      "text/plain": [
       "[{'source_ind': 0, 'target_ind': 36, 'sim': 0.6666666666666666},\n",
       " {'source_ind': 1, 'target_ind': 27, 'sim': 0.8}]"
      ]
     },
     "execution_count": 11,
     "metadata": {},
     "output_type": "execute_result"
    }
   ],
   "source": [
    "sims_info = get_sims_info(uno_clusters)\n",
    "sims_info[:2]"
   ]
  },
  {
   "cell_type": "code",
   "execution_count": 12,
   "metadata": {},
   "outputs": [],
   "source": [
    "import plotly.express as px\n",
    "\n",
    "# Между уникальными кластерами\n",
    "fig = px.histogram(sims_info, x=\"sim\")\n",
    "fig.write_html('first_figure.html', auto_open=True)"
   ]
  },
  {
   "cell_type": "code",
   "execution_count": 13,
   "metadata": {},
   "outputs": [],
   "source": [
    "min_thresh = 0.5"
   ]
  },
  {
   "cell_type": "code",
   "execution_count": 14,
   "metadata": {},
   "outputs": [],
   "source": [
    "def filter_sims_and_merge_clusters(sims_info, clusters, threshold, dialogs):\n",
    "    new_clusters = {}\n",
    "    cluster_id = 0\n",
    "    used_inds = []\n",
    "    is_merged = False\n",
    "    cluster_id_mapping = {}\n",
    "    reverse_index = {i: c for c, i in clusters.items()}\n",
    "    for e in sims_info:\n",
    "        if e['sim'] >= threshold:\n",
    "            new_cluster = reverse_index[e['source_ind']].union(reverse_index[e['target_ind']])\n",
    "            if new_cluster not in new_clusters:                \n",
    "                new_clusters[new_cluster] = cluster_id\n",
    "                cluster_id += 1\n",
    "            used_inds += [e['source_ind'], e['target_ind']]\n",
    "            is_merged = True\n",
    "            cluster_id_mapping[e['source_ind']] = new_clusters[new_cluster]\n",
    "            cluster_id_mapping[e['target_ind']] = new_clusters[new_cluster]\n",
    "    used_inds = set(used_inds)\n",
    "    for ind in reverse_index.keys():\n",
    "        if ind not in used_inds:\n",
    "            if reverse_index[ind] not in new_clusters:                \n",
    "                new_clusters[reverse_index[ind]] = cluster_id\n",
    "                cluster_id += 1\n",
    "            cluster_id_mapping[ind] = new_clusters[reverse_index[ind]]    \n",
    "    if is_merged is True:\n",
    "        for dialog_id, dialog in dialogs.items():\n",
    "            thread = dialog['thread']\n",
    "            for ind, row in enumerate(thread):\n",
    "                row['cluster_id'] = cluster_id_mapping[row['cluster_id']]\n",
    "        return filter_sims_and_merge_clusters(get_sims_info(new_clusters), new_clusters, threshold, dialogs)\n",
    "    return list(set(new_clusters))"
   ]
  },
  {
   "cell_type": "code",
   "execution_count": 15,
   "metadata": {},
   "outputs": [],
   "source": [
    "new_clusters = filter_sims_and_merge_clusters(sims_info, uno_clusters, min_thresh, dialogs)"
   ]
  },
  {
   "cell_type": "code",
   "execution_count": 16,
   "metadata": {},
   "outputs": [],
   "source": [
    "def check_correctness(new_clusters, dialogs):\n",
    "    cluster_ids = set()\n",
    "    for dialog_id, dialog in dialogs.items():\n",
    "        thread = dialog['thread']\n",
    "        for ind, row in enumerate(thread):\n",
    "            cluster_ids.add(row['cluster_id'])\n",
    "    assert len(cluster_ids) == len(new_clusters)\n",
    "\n",
    "check_correctness(new_clusters, dialogs)"
   ]
  },
  {
   "cell_type": "code",
   "execution_count": 17,
   "metadata": {},
   "outputs": [
    {
     "data": {
      "text/plain": [
       "(248,\n",
       " 12,\n",
       " [frozenset({'Information_RequestIntent_dci',\n",
       "             'PAIR_ANAPHORA',\n",
       "             'SINGLE_CONN_START',\n",
       "             'SINGLE_S_COORD',\n",
       "             'User_InstructionIntent_dci',\n",
       "             'dim_Task comm_func_Statement'}),\n",
       "  frozenset({'Opinion_ExpressionIntent_dci',\n",
       "             'PAIR_ANAPHORA',\n",
       "             'SINGLE_APPOSITION',\n",
       "             'dim_Task comm_func_SetQ'}),\n",
       "  frozenset({'InteractiveIntent_dci',\n",
       "             'SINGLE_VP_COORD',\n",
       "             'dim_Task comm_func_Statement'}),\n",
       "  frozenset({'ClarificationIntent_dci',\n",
       "             'General_ChatIntent_dci',\n",
       "             'Information_DeliveryIntent_dci',\n",
       "             'Information_RequestIntent_dci',\n",
       "             'InteractiveIntent_dci',\n",
       "             'Opinion_ExpressionIntent_dci',\n",
       "             'Opinion_RequestIntent_dci',\n",
       "             'PAIR_ANAPHORA',\n",
       "             'PAIR_CONN',\n",
       "             'PAIR_CONN_ANAPHORA',\n",
       "             'SINGLE_APPOSITION',\n",
       "             'SINGLE_CATAPHORA',\n",
       "             'SINGLE_CONN_INNER',\n",
       "             'SINGLE_CONN_INNER_ANAPHORA',\n",
       "             'SINGLE_CONN_START',\n",
       "             'SINGLE_RELATIVE',\n",
       "             'SINGLE_S_COORD',\n",
       "             'SINGLE_S_COORD_ANAPHORA',\n",
       "             'SINGLE_VP_COORD',\n",
       "             'User_InstructionIntent_dci',\n",
       "             'dim_Feedback comm_func_Feedback',\n",
       "             'dim_SocialObligationManagement comm_func_Apology',\n",
       "             'dim_SocialObligationManagement comm_func_Salutation',\n",
       "             'dim_SocialObligationManagement comm_func_Thanking',\n",
       "             'dim_Task comm_func_CheckQ',\n",
       "             'dim_Task comm_func_Commissive',\n",
       "             'dim_Task comm_func_Directive',\n",
       "             'dim_Task comm_func_SetQ',\n",
       "             'dim_Task comm_func_Statement'}),\n",
       "  frozenset({'General_ChatIntent_dci', 'SINGLE_S_COORD_ANAPHORA'}),\n",
       "  frozenset({'General_ChatIntent_dci',\n",
       "             'Information_DeliveryIntent_dci',\n",
       "             'SINGLE_APPOSITION',\n",
       "             'dim_Task comm_func_SetQ'}),\n",
       "  frozenset({'General_ChatIntent_dci',\n",
       "             'Information_DeliveryIntent_dci',\n",
       "             'InteractiveIntent_dci',\n",
       "             'Opinion_ExpressionIntent_dci',\n",
       "             'PAIR_ANAPHORA',\n",
       "             'SINGLE_APPOSITION',\n",
       "             'SINGLE_CATAPHORA',\n",
       "             'User_InstructionIntent_dci',\n",
       "             'dim_Feedback comm_func_Feedback',\n",
       "             'dim_SocialObligationManagement comm_func_Salutation',\n",
       "             'dim_Task comm_func_Directive'}),\n",
       "  frozenset({'General_ChatIntent_dci',\n",
       "             'InteractiveIntent_dci',\n",
       "             'Opinion_ExpressionIntent_dci',\n",
       "             'Opinion_RequestIntent_dci',\n",
       "             'PAIR_ANAPHORA',\n",
       "             'SINGLE_CATAPHORA',\n",
       "             'SINGLE_S_COORD',\n",
       "             'SINGLE_S_COORD_ANAPHORA',\n",
       "             'dim_Feedback comm_func_Feedback',\n",
       "             'dim_SocialObligationManagement comm_func_Apology',\n",
       "             'dim_Task comm_func_Statement'}),\n",
       "  frozenset({'InteractiveIntent_dci',\n",
       "             'Opinion_ExpressionIntent_dci',\n",
       "             'SINGLE_APPOSITION',\n",
       "             'User_InstructionIntent_dci',\n",
       "             'dim_Task comm_func_Statement'}),\n",
       "  frozenset({'General_ChatIntent_dci',\n",
       "             'SINGLE_APPOSITION',\n",
       "             'User_InstructionIntent_dci',\n",
       "             'dim_Task comm_func_Commissive'})])"
      ]
     },
     "execution_count": 17,
     "metadata": {},
     "output_type": "execute_result"
    }
   ],
   "source": [
    "len(uno_clusters), len(new_clusters), new_clusters[:10]"
   ]
  }
 ],
 "metadata": {
  "kernelspec": {
   "display_name": "Python 3",
   "language": "python",
   "name": "python3"
  },
  "language_info": {
   "codemirror_mode": {
    "name": "ipython",
    "version": 3
   },
   "file_extension": ".py",
   "mimetype": "text/x-python",
   "name": "python",
   "nbconvert_exporter": "python",
   "pygments_lexer": "ipython3",
   "version": "3.7.6"
  }
 },
 "nbformat": 4,
 "nbformat_minor": 4
}
