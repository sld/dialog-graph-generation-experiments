{
 "cells": [
  {
   "cell_type": "code",
   "execution_count": 1,
   "metadata": {},
   "outputs": [],
   "source": [
    "import json\n",
    "import random\n",
    "from collections import defaultdict"
   ]
  },
  {
   "cell_type": "code",
   "execution_count": 2,
   "metadata": {},
   "outputs": [],
   "source": [
    "random.seed(42)"
   ]
  },
  {
   "cell_type": "code",
   "execution_count": 3,
   "metadata": {},
   "outputs": [],
   "source": [
    "# input_json = 'data/convai1.spacy.dialogact.discourse.dialogtagger.3009.json'\n",
    "# input_json = 'data/convai2.spacy.dialogact.discourse.dialogtagger.0110.json'\n",
    "input_json = 'data/multi-woz2.spacy.dialogact.discourse.dialogtagger.0110.json'"
   ]
  },
  {
   "cell_type": "code",
   "execution_count": 4,
   "metadata": {},
   "outputs": [],
   "source": [
    "with open(input_json, 'r') as f:\n",
    "    dialogs = json.load(f)"
   ]
  },
  {
   "cell_type": "code",
   "execution_count": 5,
   "metadata": {},
   "outputs": [],
   "source": [
    "def get_features(utterance):\n",
    "    dialog_act_features = [p[0] for p in utterance['predictions'] if '_dci' in p[0]]\n",
    "    pos_features = \"|\".join([feats['pos'] for feats in utterance['features_dict']])\n",
    "    single_discourse_type = utterance['single_discourse_type']\n",
    "    pair_discourse_type = utterance.get('pair_discourse_type')\n",
    "    \n",
    "    dialog_tagger_features = [f\"dim_{p['dimension']} comm_func_{p['communicative_function']}\" for p in utterance['SVM_predictions']]\n",
    "\n",
    "    features = dialog_act_features  + dialog_tagger_features + [single_discourse_type] #+ [pos_features]\n",
    "    if pair_discourse_type and pair_discourse_type != 'PAIR_NONE':\n",
    "        features += [pair_discourse_type]\n",
    "    return features\n",
    "\n",
    "# def get_features(utterance):\n",
    "#     dialog_act_features = [p[0] for p in utterance['predictions']]\n",
    "#     pos_features = \"|\".join([feats['pos'] for feats in utterance['features_dict']])\n",
    "#     single_discourse_type = utterance['single_discourse_type']\n",
    "#     pair_discourse_type = utterance.get('pair_discourse_type')\n",
    "    \n",
    "#     dialog_tagger_features = [f\"dim_{p['dimension']} comm_func_{p['communicative_function']}\" for p in utterance['SVM_predictions']]\n",
    "\n",
    "#     features = dialog_act_features  + dialog_tagger_features + [single_discourse_type] + [pos_features]\n",
    "#     if pair_discourse_type:\n",
    "#         features += [pair_discourse_type]\n",
    "#     return features"
   ]
  },
  {
   "cell_type": "code",
   "execution_count": 6,
   "metadata": {},
   "outputs": [],
   "source": [
    "for dialog_id, dialog in dialogs.items():\n",
    "    thread = dialog['thread']\n",
    "    for row in thread:\n",
    "        features = get_features(row)\n",
    "        row['final_features'] = frozenset(features)"
   ]
  },
  {
   "cell_type": "code",
   "execution_count": 7,
   "metadata": {},
   "outputs": [],
   "source": [
    "def collect_clusters(dialogs):\n",
    "    clusters = set()\n",
    "    for dialog_id, dialog in dialogs.items():\n",
    "        thread = dialog['thread']\n",
    "        for ind, row in enumerate(thread):\n",
    "            clusters.add(row['final_features'])\n",
    "    clusters = sorted(list(clusters), key=lambda x: str(sorted(list(x))))\n",
    "    clusters_index = {f: i for i, f in enumerate(clusters)}\n",
    "    for dialog_id, dialog in dialogs.items():\n",
    "        thread = dialog['thread']\n",
    "        for ind, row in enumerate(thread):\n",
    "            row['cluster_id'] = clusters_index[row['final_features']]\n",
    "    return clusters_index"
   ]
  },
  {
   "cell_type": "code",
   "execution_count": 8,
   "metadata": {},
   "outputs": [],
   "source": [
    "def jaccard_similarity(s1, s2):\n",
    "    res = round(len(s1.intersection(s2)) / len(s1.union(s2)), 5)\n",
    "    if res < 0:\n",
    "        res = 0\n",
    "    if res > 1:\n",
    "        res = 1\n",
    "    return res"
   ]
  },
  {
   "cell_type": "code",
   "execution_count": 9,
   "metadata": {},
   "outputs": [],
   "source": [
    "uno_clusters = collect_clusters(dialogs)"
   ]
  },
  {
   "cell_type": "code",
   "execution_count": 10,
   "metadata": {},
   "outputs": [],
   "source": [
    "def get_sims_info(clusters, for_hist=False):\n",
    "    used_inds = set()\n",
    "    sims_info = []\n",
    "    assert len(clusters.values()) == len(set(clusters.values()))\n",
    "    reverse_index = {i: c for c, i in sorted(clusters.items(), key=lambda x: x[1])}            \n",
    "    for i in range(len(clusters)):\n",
    "        max_sim = 0\n",
    "        max_ind = 0\n",
    "        for j in range(i+1, len(clusters)):        \n",
    "            cur_sim = jaccard_similarity(reverse_index[i], reverse_index[j])\n",
    "            if max_sim <= cur_sim:\n",
    "                max_sim = cur_sim\n",
    "                max_ind = j   \n",
    "        if (i not in used_inds) and (max_ind not in used_inds) and not for_hist:\n",
    "            sims_info.append({'source_ind': i, 'target_ind': max_ind, 'sim': max_sim})\n",
    "            used_inds.add(i)\n",
    "            used_inds.add(max_ind)\n",
    "        elif for_hist:\n",
    "            sims_info.append({'source_ind': i, 'target_ind': max_ind, 'sim': max_sim})\n",
    "    return sims_info"
   ]
  },
  {
   "cell_type": "code",
   "execution_count": 11,
   "metadata": {},
   "outputs": [
    {
     "data": {
      "text/plain": [
       "(315055, 801483)"
      ]
     },
     "execution_count": 11,
     "metadata": {},
     "output_type": "execute_result"
    }
   ],
   "source": [
    "sims_info = get_sims_info(uno_clusters)\n",
    "source_inds = [e['source_ind'] for e in sims_info]\n",
    "target_inds = [e['target_ind'] for e in sims_info]\n",
    "sum(source_inds), sum(target_inds)"
   ]
  },
  {
   "cell_type": "code",
   "execution_count": 12,
   "metadata": {},
   "outputs": [],
   "source": [
    "import plotly.express as px\n",
    "\n",
    "# Между уникальными кластерами\n",
    "sims_info_for_hist = get_sims_info(uno_clusters, True)\n",
    "fig = px.histogram(sims_info_for_hist, x=\"sim\", nbins=len(sims_info_for_hist))\n",
    "fig.write_html('sims_hist.html', auto_open=True)"
   ]
  },
  {
   "cell_type": "code",
   "execution_count": 13,
   "metadata": {},
   "outputs": [],
   "source": [
    "min_thresh = 0.74"
   ]
  },
  {
   "cell_type": "code",
   "execution_count": 14,
   "metadata": {},
   "outputs": [],
   "source": [
    "def filter_sims_and_merge_clusters(sims_info, clusters, threshold, dialogs):\n",
    "    new_clusters = {}\n",
    "    cluster_id = 0\n",
    "    used_inds = []\n",
    "    is_merged = False\n",
    "    cluster_id_mapping = {}\n",
    "    assert len(clusters.values()) == len(set(clusters.values()))\n",
    "    reverse_index = {i: c for c, i in sorted(clusters.items(), key=lambda x: x[1])} \n",
    "    for e in sims_info:\n",
    "        if e['sim'] >= threshold:\n",
    "            new_cluster = frozenset().union(reverse_index[e['source_ind']], reverse_index[e['target_ind']])\n",
    "            if new_cluster not in new_clusters:                \n",
    "                new_clusters[new_cluster] = cluster_id\n",
    "                cluster_id += 1\n",
    "                is_merged = True\n",
    "            used_inds += [e['source_ind'], e['target_ind']]\n",
    "            cluster_id_mapping[e['source_ind']] = new_clusters[new_cluster]\n",
    "            cluster_id_mapping[e['target_ind']] = new_clusters[new_cluster]\n",
    "    used_inds = set(used_inds)\n",
    "    for ind in reverse_index.keys():\n",
    "        if ind not in used_inds:\n",
    "            if reverse_index[ind] not in new_clusters:                \n",
    "                new_clusters[reverse_index[ind]] = cluster_id\n",
    "                cluster_id += 1\n",
    "            cluster_id_mapping[ind] = new_clusters[reverse_index[ind]]    \n",
    "    if is_merged is True:\n",
    "        for dialog_id, dialog in dialogs.items():\n",
    "            thread = dialog['thread']\n",
    "            for ind, row in enumerate(thread):\n",
    "                row['cluster_id'] = cluster_id_mapping[row['cluster_id']]\n",
    "        return filter_sims_and_merge_clusters(get_sims_info(new_clusters), new_clusters, threshold, dialogs)\n",
    "    return new_clusters"
   ]
  },
  {
   "cell_type": "code",
   "execution_count": 15,
   "metadata": {},
   "outputs": [],
   "source": [
    "new_clusters = filter_sims_and_merge_clusters(sims_info, uno_clusters, min_thresh, dialogs)"
   ]
  },
  {
   "cell_type": "code",
   "execution_count": 16,
   "metadata": {},
   "outputs": [],
   "source": [
    "def check_correctness(new_clusters, dialogs):\n",
    "    cluster_ids = set()\n",
    "    for dialog_id, dialog in dialogs.items():\n",
    "        thread = dialog['thread']\n",
    "        for ind, row in enumerate(thread):\n",
    "            cluster_ids.add(row['cluster_id'])\n",
    "    assert len(cluster_ids) == len(new_clusters)\n",
    "\n",
    "check_correctness(new_clusters, dialogs)"
   ]
  },
  {
   "cell_type": "code",
   "execution_count": 17,
   "metadata": {},
   "outputs": [
    {
     "name": "stdout",
     "output_type": "stream",
     "text": [
      "1690 663 [(frozenset({'SINGLE_CATAPHORA', 'PAIR_ANAPHORA', 'SINGLE_S_COORD', 'Information_RequestIntent_dci', 'Information_DeliveryIntent_dci', 'dim_Task comm_func_Statement', 'dim_SocialObligationManagement comm_func_Thanking', 'General_ChatIntent_dci'}), 0), (frozenset({'SINGLE_S_COORD', 'PAIR_ANAPHORA', 'Information_RequestIntent_dci', 'dim_SocialObligationManagement comm_func_Apology', 'dim_Task comm_func_Statement', 'PAIR_CONN', 'Information_DeliveryIntent_dci', 'General_ChatIntent_dci'}), 1), (frozenset({'SINGLE_S_COORD', 'Information_RequestIntent_dci', 'dim_Task comm_func_Directive', 'Information_DeliveryIntent_dci', 'dim_Task comm_func_Statement', 'PAIR_CONN', 'dim_SocialObligationManagement comm_func_Thanking', 'General_ChatIntent_dci'}), 2)]\n"
     ]
    }
   ],
   "source": [
    "print(len(uno_clusters), len(new_clusters), list(new_clusters.items())[:3])\n",
    "reverse_index = {i: c for c, i in sorted(new_clusters.items(), key=lambda x: x[1])} "
   ]
  },
  {
   "cell_type": "code",
   "execution_count": 18,
   "metadata": {},
   "outputs": [],
   "source": [
    "cluster_usage_distribution = defaultdict(int)\n",
    "for dialog_id, dialog in dialogs.items():\n",
    "        thread = dialog['thread']\n",
    "        for ind, row in enumerate(thread):\n",
    "            cluster_usage_distribution[row['cluster_id']] += 1"
   ]
  },
  {
   "cell_type": "code",
   "execution_count": 19,
   "metadata": {},
   "outputs": [],
   "source": [
    "xs = [f\"c_{e}\" for e in list(cluster_usage_distribution.keys())]\n",
    "fig = px.histogram(x=xs, y=list(cluster_usage_distribution.values()), nbins=len(cluster_usage_distribution.keys()), labels={'x': 'cluster id'})\n",
    "fig.update_layout(xaxis={'categoryorder':'total descending'})\n",
    "fig.write_html('usage_hist.html', auto_open=True)"
   ]
  },
  {
   "cell_type": "code",
   "execution_count": 20,
   "metadata": {},
   "outputs": [],
   "source": [
    "cluster_examples = defaultdict(list)\n",
    "for dialog_id, dialog in dialogs.items():\n",
    "        thread = dialog['thread']\n",
    "        for ind, row in enumerate(thread):\n",
    "            cluster_examples[row['cluster_id']].append(row['text'])"
   ]
  },
  {
   "cell_type": "code",
   "execution_count": 21,
   "metadata": {},
   "outputs": [
    {
     "name": "stdout",
     "output_type": "stream",
     "text": [
      "Cluster id: 85; Frequency: 14125\n",
      "-------------\n",
      "General_ChatIntent_dci\n",
      "Information_DeliveryIntent_dci\n",
      "Information_RequestIntent_dci\n",
      "SINGLE_S_COORD\n",
      "dim_Task comm_func_Statement\n",
      "Samples: \n",
      "- I found 14 for you. Do you have a specific area you'd like?\n",
      "- Are you sure that there are no hotels on the west side of town? With or without internet?\n",
      "- No, it's a 3 star guesthouse. Do you want to look for something different?\n",
      "- The yippee noddle bar is in the moderate price range. Would you like to book a table? \n",
      "- Can you find me a guesthouse that includes wi-fi?\n",
      "- There are 11 possible choices. Do you have any additional preferences?\n",
      "- The booking was successful. Your table will be reserved for 15 minutes.\n",
      "Your reference number is : 3MC54ZYM.  Is there anything else I can do for you? \n",
      "- Are there any moderately priced hotels that don't have free parking, but have wifi?\n",
      "- Yes, I need the guesthouse to have free internet and parking. Can you get me their phone number?\n",
      "- I need to know the following to book you in at the allenbell: your day of arrival, the duration of your stay, and the number of people with you.\n",
      "-------------\n",
      "\n",
      "Cluster id: 1; Frequency: 13294\n",
      "-------------\n",
      "General_ChatIntent_dci\n",
      "Information_DeliveryIntent_dci\n",
      "Information_RequestIntent_dci\n",
      "PAIR_ANAPHORA\n",
      "PAIR_CONN\n",
      "SINGLE_S_COORD\n",
      "dim_SocialObligationManagement comm_func_Apology\n",
      "dim_Task comm_func_Statement\n",
      "Samples: \n",
      "- Yes I am also looking for a train that leaves on Tuesday after 12:15. Can you help?\n",
      "- OK, there are 3 to choose from.\n",
      "- la tasca is located in the centre. Do you need for me to book it ?\n",
      "- Train TR1542 is the first train. Would you like me to book it?\n",
      "- Would it be possible for you to book another day? \n",
      "- I'm sorry, there is nothing meeting your criteria. What other type of cuisine  would you like?\n",
      "- I'm sorry, there are no 0 star guesthouses, would you like to try something else?\n",
      "- Actually, I'd like a moderate hotel in the centre with free wifi. I need to book it for 3 people for 3 nights starting Sunday. And a reference number please?\n",
      "- It is 10.24 pounds per ticket. Can I book that for you?\n",
      "- Yes, that will be perfect. What's the travel time?\n",
      "-------------\n",
      "\n",
      "Cluster id: 337; Frequency: 11359\n",
      "-------------\n",
      "General_ChatIntent_dci\n",
      "SINGLE_S_COORD\n",
      "Topic_SwitchIntent_dci\n",
      "dim_Task comm_func_Statement\n",
      "Samples: \n",
      "- Sounds perfect.  What is the phone number?\n",
      "- What day will you be traveling?\n",
      "- No problem. Your booking was successful for four people, starting Sunday for three days. Your reference number is 3BUQP529.\n",
      "- Where will you be headed?\n",
      "- How many tickets will you be needing?\n",
      "- The broughton house gallery is very nice and the phone number is 01223314960 and the address is 98 king street.\n",
      "- I also need a taxi\n",
      "- The Byard Art Museum is located at 14 King's Parade and is free to get in.\n",
      "- I've booked you a room at the lovely Avalon (ref#3OK8ZQ7U). Can I help with anything else today?\n",
      "- What day will you travel?\n",
      "-------------\n",
      "\n",
      "Cluster id: 441; Frequency: 6990\n",
      "-------------\n",
      "General_ChatIntent_dci\n",
      "SINGLE_S_COORD\n",
      "dim_SocialObligationManagement comm_func_Thanking\n",
      "Samples: \n",
      "- You're welcome. Have a great time!\n",
      "- Great, that is everything, thanks for your help.\n",
      "- Great, thanks so much for all of your help today.  That is everything. Bye.\n",
      "- I would say I'm all set, thank you!\n",
      "- Okay, thank you for calling the Cambridge TownInfo centre. Have a great rest of your day.\n",
      "- Thank you and goodbye.\n",
      "- No, that's all. You've been very helpful! Thank you.\n",
      "- That was all for today, thank you.\n",
      "- Thank you for using our service!\n",
      "- Thanks. I don't want to book the train yet, so I think I am all set. \n",
      "-------------\n",
      "\n",
      "Cluster id: 206; Frequency: 6500\n",
      "-------------\n",
      "ClarificationIntent_dci\n",
      "General_ChatIntent_dci\n",
      "SINGLE_APPOSITION\n",
      "dim_Task comm_func_Statement\n",
      "Samples: \n",
      "- The same day, saturday.\n",
      "- I have booked TR8509 that leaves at 10:19. Your reference number is CJ04K4Y6.\n",
      "- The address is G4 Cambridge Leisure Park Clifton Way Cherry Hinton. The phone number is 01223 323737.\n",
      "- I am looking for a restaurant in the centre of Cambridge that serves modern American food.\n",
      "- That is all, goodbye.\n",
      "- I want it to arrive by 10:45. \n",
      "- The Huntingdon Marriott Hotel please.\n",
      "- Yes, please. I need a room for 1 person, 3 nights. I'll be arriving on Saturday. The Ashley is fine.\n",
      "- Soul Tree Nightclub is found in the center of town.The entrance fee is 4 Pounds and their phone number is 01223477900\n",
      "- The first train departs at 05:19. What time will you be leaving?\n",
      "-------------\n",
      "\n",
      "Cluster id: 285; Frequency: 6099\n",
      "-------------\n",
      "General_ChatIntent_dci\n",
      "Information_RequestIntent_dci\n",
      "SINGLE_S_COORD\n",
      "dim_Task comm_func_Directive\n",
      "Samples: \n",
      "- OK, your booking was successful and your reference number is 8MMCDWTN. Can we help you with anything else today?\n",
      "- What area would you like to stay in?\n",
      "- Yes.  Can you look for something in the same area and price range please?\n",
      "- There are several that fit the bill. I could recommend Limehouse. Would you like me to help you book there, or are there other factors you'd like to consider?\n",
      "- What time would you like to leave and/or arrive by?\n",
      "- Sure.  I found 2 guesthouses.  One with 4 stars and one with 0 stars.  Do you have a preference?\n",
      "- Do you have a preference for a guesthouse or a hotel?\n",
      "- I'd like more information about the Ashley Hotel, can you help?\n",
      "- We have many great places to stay. What area would you like and do you have a price range? \n",
      "- I can book passage for you on TR5163, arriving in cambridge at 7:35 on Sunday. How many tickets do you need?\n",
      "-------------\n",
      "\n",
      "Cluster id: 156; Frequency: 4947\n",
      "-------------\n",
      "General_ChatIntent_dci\n",
      "Opinion_ExpressionIntent_dci\n",
      "PAIR_ANAPHORA\n",
      "SINGLE_APPOSITION\n",
      "dim_SocialObligationManagement comm_func_Thanking\n",
      "Samples: \n",
      "- Thank you for calling. Enjoy your stay.\n",
      "- Great thank you, I am also looking for an expensive Indian place to eat\n",
      "- The location doesn't matter. I just need a Chinese restaurant that is moderately priced. Thanks.\n",
      "- Well thank you. It has been a pleasure to assist you today. Have a wonderful day. Goodbye.\n",
      "- Thank you for using the Cambridge TownInfo centre. Have a wonderful day!\n",
      "- Thank you.  I will also need a taxi to get form the attraction to the restaurant by 13:15.\n",
      "- Fantastic, thank you, have a good day.\n",
      "- That's all. Thank you! Bye!\n",
      "- Thank you for allowing me to help you, have a great day.\n",
      "- Beautiful, thank you for everything, that will be all.\n",
      "-------------\n",
      "\n",
      "Cluster id: 33; Frequency: 4812\n",
      "-------------\n",
      "General_ChatIntent_dci\n",
      "Information_DeliveryIntent_dci\n",
      "Information_RequestIntent_dci\n",
      "SINGLE_APPOSITION\n",
      "dim_SocialObligationManagement comm_func_Thanking\n",
      "dim_Task comm_func_Statement\n",
      "Samples: \n",
      "- Could I get the area, phone number, and address of the Kettles yard?\n",
      "- Yes, one more thing. I need a taxi to commute between the two places. \n",
      "- The acorn guest house has a 4 start rating. Would you like to hear other options? \n",
      "- The departure time is 09:21. Can I help you with anything else?\n",
      "- I actually don't want to visit a college. I want to visit a place in the city centre that offers multiple sports. \n",
      "- I have found The Lucky Star that meets your requirements. Would you like me to book it for you?\n",
      "- How about TR4748 that leaves at 13:17?\n",
      "- We have many fine guesthouses in town. Is there a certain part of town or price range you would like?\n",
      "- The closest is fine, can you give me the phone number and postcode of the restaurant?  I am also looking for a college to visit in the area.\n",
      "- Yes I would like to book a moderately priced one for 3 people at 14:15 on Sunday.\n",
      "-------------\n",
      "\n",
      "Cluster id: 420; Frequency: 3760\n",
      "-------------\n",
      "General_ChatIntent_dci\n",
      "SINGLE_CATAPHORA\n",
      "dim_Task comm_func_Statement\n",
      "Samples: \n",
      "- Im looking for a the Kymmoy restaurant in Cambridge \n",
      "- Ok, where are you departing from?\n",
      "- I'm looking for a place to dine on the south side of town. Please find a place that's in the expensive price range.\n",
      "- Yes I need a train departing Cambridge after 16:30.\n",
      "- Yes, please. 5 people for 5 nights starting thursday\n",
      "- I'm looking for an expensive mediterranean restaurant.\n",
      "- Where will you be departing from and traveling to?\n",
      "- Tuesday leaving sometime after 18:45.\n",
      "- TR0471 leaving Cambridge on Tuesday at 16:40 and arriving at Stansted Airport by 17:08. Would this one work for you?\n",
      "- I will be departing from broxbourne. \n",
      "-------------\n",
      "\n",
      "Cluster id: 40; Frequency: 3468\n",
      "-------------\n",
      "General_ChatIntent_dci\n",
      "Information_DeliveryIntent_dci\n",
      "PAIR_ANAPHORA\n",
      "SINGLE_APPOSITION\n",
      "dim_SocialObligationManagement comm_func_Thanking\n",
      "dim_Task comm_func_Statement\n",
      "Samples: \n",
      "- yes.its within the moderate range\n",
      "- The phone number for Meghna is 01223727410. It is located at 205 Victoria Road Chesterton\n",
      "- Tenpin is a fun place in the south, located at Cambridge Leisure Park, Clifton Way. Their postcode is cb17dy.\n",
      "- It is located at Cambridge Leisure Park Clifton Way Cherry Hinton.\n",
      "- Train TR5056 arrives in Cambridge at approximately 20:32. Shall I book that for you?\n",
      "- I need a train that departs from Cambridge after 15:30.\n",
      "- There is a restaurant called Bedouin that serves African foods. They are in expensive price range, located in the centre. Can I book a table for you?\n",
      "- That will be fine. Can you book the Allenbell for my stay?\n",
      "- Yes, all saints church is located t city cenre. It has free entrance. \n",
      "- I will first need your destination city to determine that.\n",
      "-------------\n",
      "\n"
     ]
    }
   ],
   "source": [
    "top_cluster_ids = []\n",
    "for cluster_id, freq in sorted(cluster_usage_distribution.items(), key=lambda x: x[1], reverse=True)[:10]:\n",
    "    print(f\"Cluster id: {cluster_id}; Frequency: {freq}\")\n",
    "    print(\"-------------\")\n",
    "    for e in sorted(reverse_index[cluster_id]):\n",
    "        print(e)\n",
    "    print(\"Samples: \")\n",
    "    for s in random.sample(cluster_examples[cluster_id], 10):\n",
    "        print(f\"- {s}\")\n",
    "    print(\"-------------\")\n",
    "    print()\n",
    "    top_cluster_ids.append(cluster_id)"
   ]
  },
  {
   "cell_type": "code",
   "execution_count": 22,
   "metadata": {},
   "outputs": [
    {
     "data": {
      "text/plain": [
       "[1]"
      ]
     },
     "execution_count": 22,
     "metadata": {},
     "output_type": "execute_result"
    }
   ],
   "source": [
    "random.sample([1,2], 1)"
   ]
  },
  {
   "cell_type": "code",
   "execution_count": 23,
   "metadata": {},
   "outputs": [
    {
     "data": {
      "text/plain": [
       "(frozenset({'General_ChatIntent_dci',\n",
       "            'Information_DeliveryIntent_dci',\n",
       "            'Information_RequestIntent_dci',\n",
       "            'PAIR_ANAPHORA',\n",
       "            'SINGLE_CATAPHORA',\n",
       "            'SINGLE_S_COORD',\n",
       "            'dim_SocialObligationManagement comm_func_Thanking',\n",
       "            'dim_Task comm_func_Statement'}),\n",
       " frozenset({'General_ChatIntent_dci',\n",
       "            'Information_DeliveryIntent_dci',\n",
       "            'Information_RequestIntent_dci',\n",
       "            'PAIR_ANAPHORA',\n",
       "            'SINGLE_APPOSITION',\n",
       "            'dim_SocialObligationManagement comm_func_Apology',\n",
       "            'dim_Task comm_func_Directive',\n",
       "            'dim_Task comm_func_Statement'}),\n",
       " frozenset({'General_ChatIntent_dci',\n",
       "            'Information_DeliveryIntent_dci',\n",
       "            'Information_RequestIntent_dci',\n",
       "            'PAIR_ANAPHORA',\n",
       "            'SINGLE_CONN_START',\n",
       "            'dim_Task comm_func_Statement'}),\n",
       " frozenset({'General_ChatIntent_dci',\n",
       "            'Information_RequestIntent_dci',\n",
       "            'Opinion_ExpressionIntent_dci',\n",
       "            'SINGLE_S_COORD',\n",
       "            'dim_Feedback comm_func_Feedback'}))"
      ]
     },
     "execution_count": 23,
     "metadata": {},
     "output_type": "execute_result"
    }
   ],
   "source": [
    "reverse_index[0], reverse_index[3], reverse_index[5], reverse_index[19]"
   ]
  },
  {
   "cell_type": "markdown",
   "metadata": {},
   "source": [
    "0. Выбросил топики. Изначально нашлось 248 уникальных кластеров на датасете ConvAI 1.\n",
    "1. Пороги см. sims_hist.html - я делал отсчеку по 0.66\n",
    "2. После объединения кластеров по порогу их осталось 109\n",
    "3. Ниже распределение объединенных кластеров см usage_hist.html. Видно что, есть длинный хвост. \n",
    "4. Вот примеры наиболее частотных кластеров \n",
    "```\n",
    "0: (frozenset({'General_ChatIntent_dci',\n",
    "            'Information_DeliveryIntent_dci',\n",
    "            'Information_RequestIntent_dci',\n",
    "            'PAIR_ANAPHORA',\n",
    "            'SINGLE_S_COORD',\n",
    "            'dim_Task comm_func_Commissive',\n",
    "            'dim_Task comm_func_Statement'}),\n",
    "3: frozenset({'General_ChatIntent_dci',\n",
    "            'Information_RequestIntent_dci',\n",
    "            'PAIR_ANAPHORA',\n",
    "            'SINGLE_APPOSITION',\n",
    "            'SINGLE_VP_COORD',\n",
    "            'dim_Task comm_func_Statement'}),\n",
    "5: frozenset({'ClarificationIntent_dci',\n",
    "            'General_ChatIntent_dci',\n",
    "            'PAIR_CONN',\n",
    "            'SINGLE_S_COORD',\n",
    "            'dim_Task comm_func_Statement'}),\n",
    "19: frozenset({'General_ChatIntent_dci',\n",
    "            'InteractiveIntent_dci',\n",
    "            'SINGLE_APPOSITION',\n",
    "            'dim_Task comm_func_Statement'}))\n",
    "```            \n",
    "            \n",
    "Сейчас главный вопрос как интерпертировать получившиеся кластера? \n",
    "\n",
    "Предлагаю созвониться, а то не очень понятно что делать дальше."
   ]
  }
 ],
 "metadata": {
  "kernelspec": {
   "display_name": "Python 3",
   "language": "python",
   "name": "python3"
  },
  "language_info": {
   "codemirror_mode": {
    "name": "ipython",
    "version": 3
   },
   "file_extension": ".py",
   "mimetype": "text/x-python",
   "name": "python",
   "nbconvert_exporter": "python",
   "pygments_lexer": "ipython3",
   "version": "3.7.6"
  }
 },
 "nbformat": 4,
 "nbformat_minor": 4
}
